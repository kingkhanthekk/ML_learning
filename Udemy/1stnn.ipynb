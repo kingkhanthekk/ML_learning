{
  "nbformat": 4,
  "nbformat_minor": 0,
  "metadata": {
    "colab": {
      "name": "Untitled0.ipynb",
      "provenance": []
    },
    "kernelspec": {
      "name": "python3",
      "display_name": "Python 3"
    },
    "language_info": {
      "name": "python"
    }
  },
  "cells": [
    {
      "cell_type": "code",
      "metadata": {
        "id": "jNNeDF1Fp5RF"
      },
      "source": [
        "import numpy as np\n",
        "import tensorflow as tf"
      ],
      "execution_count": 31,
      "outputs": []
    },
    {
      "cell_type": "code",
      "metadata": {
        "id": "CGkn1AOprcu-"
      },
      "source": [
        "n_features = 10\n",
        "n_dense_neurons = 3"
      ],
      "execution_count": 32,
      "outputs": []
    },
    {
      "cell_type": "code",
      "metadata": {
        "id": "d-6HLvbyuGuB"
      },
      "source": [
        "tf.compat.v1.disable_eager_execution()"
      ],
      "execution_count": 33,
      "outputs": []
    },
    {
      "cell_type": "code",
      "metadata": {
        "id": "9xZbClFwqzLU"
      },
      "source": [
        "x = tf.compat.v1.placeholder(tf.float32, (None, n_features))"
      ],
      "execution_count": 34,
      "outputs": []
    },
    {
      "cell_type": "code",
      "metadata": {
        "id": "sy-Rd2Alr9O4"
      },
      "source": [
        "w = tf.Variable(tf.random.normal([n_features, n_dense_neurons]))\n",
        "\n",
        "b = tf.Variable(tf.ones([n_dense_neurons]))"
      ],
      "execution_count": 35,
      "outputs": []
    },
    {
      "cell_type": "code",
      "metadata": {
        "id": "iJ1i0_mfsqUG"
      },
      "source": [
        "xw = tf.matmul(x,w)"
      ],
      "execution_count": 36,
      "outputs": []
    },
    {
      "cell_type": "code",
      "metadata": {
        "id": "80_B-DZSsuft"
      },
      "source": [
        "z = tf.add(xw,b)"
      ],
      "execution_count": 37,
      "outputs": []
    },
    {
      "cell_type": "code",
      "metadata": {
        "id": "FfaMLJiStCAA"
      },
      "source": [
        "a = tf.nn.relu(z)"
      ],
      "execution_count": 38,
      "outputs": []
    },
    {
      "cell_type": "code",
      "metadata": {
        "id": "v3xLD0g7tZGK"
      },
      "source": [
        "init = tf.compat.v1.global_variables_initializer()\n"
      ],
      "execution_count": 39,
      "outputs": []
    },
    {
      "cell_type": "code",
      "metadata": {
        "id": "2pNLTJtDvBoW"
      },
      "source": [
        "with tf.compat.v1.Session() as sess:\n",
        "  sess.run(init)\n",
        "  layer_out = sess.run(a, feed_dict = {x:np.random.random([1,n_features])})"
      ],
      "execution_count": 40,
      "outputs": []
    },
    {
      "cell_type": "code",
      "metadata": {
        "colab": {
          "base_uri": "https://localhost:8080/"
        },
        "id": "Sctf6Q3QwBId",
        "outputId": "8780f9af-e345-4e93-bff5-5c3e2064bcac"
      },
      "source": [
        "print(layer_out)"
      ],
      "execution_count": 41,
      "outputs": [
        {
          "output_type": "stream",
          "text": [
            "[[2.1409419 1.3317775 0.       ]]\n"
          ],
          "name": "stdout"
        }
      ]
    }
  ]
}